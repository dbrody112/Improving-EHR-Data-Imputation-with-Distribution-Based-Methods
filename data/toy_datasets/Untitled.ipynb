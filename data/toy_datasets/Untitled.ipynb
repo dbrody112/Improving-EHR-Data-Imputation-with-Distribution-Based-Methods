{
 "cells": [
  {
   "cell_type": "code",
   "execution_count": 1,
   "id": "590dc7f6",
   "metadata": {},
   "outputs": [],
   "source": [
    "import pandas as pd\n",
    "import numpy as np"
   ]
  },
  {
   "cell_type": "code",
   "execution_count": 2,
   "id": "1a77c44f",
   "metadata": {},
   "outputs": [],
   "source": [
    "mnar_toy_dataset = pd.read_csv(r\"C:\\Users\\potat\\Downloads\\mimic-lstm-master\\mimic-lstm-master\\data\\toy_datasets\\mnar_toy_data.csv\")\n",
    "mar_toy_dataset = pd.read_csv(r\"C:\\Users\\potat\\Downloads\\mimic-lstm-master\\mimic-lstm-master\\data\\toy_datasets\\mar_toy_data.csv\")\n",
    "mcar_toy_dataset = pd.read_csv(r\"C:\\Users\\potat\\Downloads\\mimic-lstm-master\\mimic-lstm-master\\data\\toy_datasets\\mcar_toy_data.csv\")\n",
    "\n",
    "\n",
    "ground_truth = pd.read_csv(r\"C:\\Users\\potat\\Downloads\\mimic-lstm-master\\mimic-lstm-master\\data\\toy_datasets\\ground_truth.csv\")\n"
   ]
  },
  {
   "cell_type": "code",
   "execution_count": 11,
   "id": "14435d93",
   "metadata": {},
   "outputs": [
    {
     "data": {
      "text/plain": [
       "array([235111], dtype=int64)"
      ]
     },
     "execution_count": 11,
     "metadata": {},
     "output_type": "execute_result"
    }
   ],
   "source": []
  },
  {
   "cell_type": "code",
   "execution_count": 21,
   "id": "a005857e",
   "metadata": {},
   "outputs": [],
   "source": [
    "def find_missingness(data = mnar_toy_dataset):\n",
    "    cols = len(data.iloc[:,1:].iloc[0])\n",
    "    rows = len(data.iloc[:,1:])\n",
    "    length = cols*rows\n",
    "\n",
    "    missingness = sum(np.reshape(data.iloc[:,1:].isna().applymap(lambda x : 0 if x == False else 1).values,(-1,1))) / length\n",
    "    return missingness"
   ]
  },
  {
   "cell_type": "code",
   "execution_count": 22,
   "id": "f759612a",
   "metadata": {},
   "outputs": [
    {
     "data": {
      "text/plain": [
       "array([0.235111])"
      ]
     },
     "execution_count": 22,
     "metadata": {},
     "output_type": "execute_result"
    }
   ],
   "source": [
    "find_missingness()"
   ]
  },
  {
   "cell_type": "code",
   "execution_count": 23,
   "id": "c5cad5da",
   "metadata": {},
   "outputs": [
    {
     "data": {
      "text/plain": [
       "array([0.085462])"
      ]
     },
     "execution_count": 23,
     "metadata": {},
     "output_type": "execute_result"
    }
   ],
   "source": [
    "find_missingness(mar_toy_dataset)"
   ]
  },
  {
   "cell_type": "code",
   "execution_count": 24,
   "id": "79a20a19",
   "metadata": {},
   "outputs": [
    {
     "data": {
      "text/plain": [
       "array([0.199584])"
      ]
     },
     "execution_count": 24,
     "metadata": {},
     "output_type": "execute_result"
    }
   ],
   "source": [
    "find_missingness(mcar_toy_dataset )"
   ]
  },
  {
   "cell_type": "code",
   "execution_count": null,
   "id": "3a5560db",
   "metadata": {},
   "outputs": [],
   "source": []
  }
 ],
 "metadata": {
  "kernelspec": {
   "display_name": "Python 3",
   "language": "python",
   "name": "python3"
  },
  "language_info": {
   "codemirror_mode": {
    "name": "ipython",
    "version": 3
   },
   "file_extension": ".py",
   "mimetype": "text/x-python",
   "name": "python",
   "nbconvert_exporter": "python",
   "pygments_lexer": "ipython3",
   "version": "3.8.8"
  }
 },
 "nbformat": 4,
 "nbformat_minor": 5
}
